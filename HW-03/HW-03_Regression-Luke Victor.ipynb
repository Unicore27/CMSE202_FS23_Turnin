{
 "cells": [
  {
   "cell_type": "markdown",
   "metadata": {},
   "source": [
    "# Homework Assignment 3\n",
    "## Regression models"
   ]
  },
  {
   "cell_type": "markdown",
   "metadata": {},
   "source": [
    "### <p style=\"text-align: right;\"> &#9989; Put your name here.</Lucas Victor>\n",
    "### <p style=\"text-align: right;\"> &#9989; Put your _GitHub username_ here.</Unicore27>"
   ]
  },
  {
   "cell_type": "markdown",
   "metadata": {},
   "source": [
    "### Goal for this homework assignment\n",
    "By now, you have learned a bit about regression models. In this assignment, you will practice:\n",
    "\n",
    "* Using branches in Git\n",
    "* Performing linear regression\n",
    "* Performing multiple regression\n",
    "* Performing logistic regression\n",
    "\n",
    "**This assignment is due by 11:59 pm on Friday, November 10th.** It should be uploaded into the \"Homework Assignments\" submission folder for Homework 3.  Submission instructions can be found at the end of the notebook. **There are 79 standard points possible in this assignment. The distribution of points can be found in the section headers**.\n"
   ]
  },
  {
   "cell_type": "markdown",
   "metadata": {},
   "source": [
    "---\n",
    "## Part 1: Git Branch (6 points)\n",
    "\n",
    "<img src=\"https://as2.ftcdn.net/v2/jpg/02/31/83/69/1000_F_231836961_dt3tbN1MKbVRGz0RLSnWuC0U8MFeLx8o.jpg\" width=300px align=\"right\" style=\"margin-left: 20px\">\n",
    "\n",
    "For this assignment, you're going to add it to the `cmse202-f23-turnin` repository you created in class so that you can track your progress on the assignment and preserve the final version that you turn in. In order to do this you need to\n",
    "\n",
    "**&#9989; Do the following**:\n",
    "\n",
    "1. Navigate to your `cmse202-f23-turnin` **local** repository and create a new directory called `hw-03`\n",
    "\n",
    "2. Move this notebook into that **new directory** in your repository, but **do not** add or commit it to your repository yet.\n",
    "\n",
    "3. Create a **new branch** called `hw03_branch` (The Day 16 PCA and ICA content has information on how to do this).\n",
    "\n",
    "4. \"Check out\" the new branch (so that you'll be working on that branch). \n",
    "\n",
    "5. Double check to make sure you are actually on that branch.\n",
    "\n",
    "6. Once you're certain you're working on your new branch, add this notebook to your repository, then make a commit and push it to GitHub. You may need to use `git push origin hw03_branch` to push your new branch to GitHub.\n",
    "\n",
    "Finally, &#9989; **Do this**: Before you move on, put the command that your instructor should run to clone your repository in the markdown cell below."
   ]
  },
  {
   "cell_type": "markdown",
   "metadata": {},
   "source": [
    "<font size=6 color=\"#009600\">&#9998;</font> Put your answer here"
   ]
  },
  {
   "cell_type": "markdown",
   "metadata": {},
   "source": [
    "**Important**: Double check you've added your Professor and your TA as collaborators to your \"turnin\" repository (you should have done this in the previous homework assignment).\n",
    "\n",
    "**Also important**: Make sure that the version of this notebook that you are working on is the same one that you just added to your repository! If you are working on a different copy of the notebook, **none of your changes will be tracked**!\n",
    "\n",
    "If everything went as intended, the file should now show up on your GitHub account in the \"`cmse202-f23-turnin`\" repository inside the `hw-03` directory that you just created within the new branch `hw03-branch`.\n",
    "\n",
    "Periodically, **you'll be asked to commit your changes to the repository and push them to the remote GitHub location**. Of course, you can always commit your changes more often than that, if you wish.  It can be good to get into a habit of committing your changes any time you make a significant modification, or when you stop working on the project for a bit.\n"
   ]
  },
  {
   "cell_type": "markdown",
   "metadata": {},
   "source": [
    "---\n",
    "## Part 2: Loading the Palmer Penguins Dataset (9 points)\n",
    "\n",
    "<img src=\"https://allisonhorst.github.io/palmerpenguins/reference/figures/lter_penguins.png\" width=400px align=\"right\" style=\"margin-left: 20px\" alt=\"The Palmer Penguis, image credit: https://allisonhorst.github.io/palmerpenguins/\">\n",
    "\n",
    "For the vast majority of this homework, you'll be working with the Palmer Penguins dataset, which contains measurements of three species of penguins (Adélie, Chinstrap, and Gentoo) collected by Dr. Kristen Gorman and the Palmer Station, Antarctica LTER, a member of the Long Term Ecological Research Network. \n",
    "\n",
    "Note, that while Parts 3, 4, and 5 are designed to be workable independent of each other, you'll definitely want to finish Part 2 before attempting Parts 3, 4, or 5. To get started on Part 2, **you'll need to download the following file**:\n",
    "\n",
    "`https://raw.githubusercontent.com/msu-cmse-courses/cmse202-supplemental-data/main/data/penguins_size.csv`\n",
    "\n",
    "&#9989; **Question 2.1 (1 point)**: **Do this:** Save the `penguins.csv` file in the same directory as your notebook. **Then, in the cell below, put the command line command(s) you used to download the file.** If you did not use a command line tool to download the file, write down the command(s) that *would* have downloaded the file."
   ]
  },
  {
   "cell_type": "markdown",
   "metadata": {},
   "source": [
    "``` bash\n",
    "# Put the command you used to download the penguins.csv file here. -O\n",
    "curl https://raw.githubusercontent.com/msu-cmse-courses/cmse202-supplemental-data/main/data/penguins_size.csv -O\n",
    "```"
   ]
  },
  {
   "cell_type": "markdown",
   "metadata": {},
   "source": [
    "&#9989;  **Question 2.2 (2 points)**: Next, load the data into a Pandas DataFrame and display the first and last 5 rows. "
   ]
  },
  {
   "cell_type": "code",
   "execution_count": 1,
   "metadata": {},
   "outputs": [
    {
     "name": "stdout",
     "output_type": "stream",
     "text": [
      "First 5 rows:\n",
      "  species     island  bill_length_mm  bill_depth_mm  flipper_length_mm  \\\n",
      "0  Adelie  Torgersen            39.1           18.7              181.0   \n",
      "1  Adelie  Torgersen            39.5           17.4              186.0   \n",
      "2  Adelie  Torgersen            40.3           18.0              195.0   \n",
      "3  Adelie  Torgersen             NaN            NaN                NaN   \n",
      "4  Adelie  Torgersen            36.7           19.3              193.0   \n",
      "\n",
      "   body_mass_g     sex  \n",
      "0       3750.0    MALE  \n",
      "1       3800.0  FEMALE  \n",
      "2       3250.0  FEMALE  \n",
      "3          NaN     NaN  \n",
      "4       3450.0  FEMALE  \n",
      "\n",
      "Last 5 rows:\n",
      "    species  island  bill_length_mm  bill_depth_mm  flipper_length_mm  \\\n",
      "339  Gentoo  Biscoe             NaN            NaN                NaN   \n",
      "340  Gentoo  Biscoe            46.8           14.3              215.0   \n",
      "341  Gentoo  Biscoe            50.4           15.7              222.0   \n",
      "342  Gentoo  Biscoe            45.2           14.8              212.0   \n",
      "343  Gentoo  Biscoe            49.9           16.1              213.0   \n",
      "\n",
      "     body_mass_g     sex  \n",
      "339          NaN     NaN  \n",
      "340       4850.0  FEMALE  \n",
      "341       5750.0    MALE  \n",
      "342       5200.0  FEMALE  \n",
      "343       5400.0    MALE  \n"
     ]
    }
   ],
   "source": [
    "# Put your code here\n",
    "import pandas as pd\n",
    "df = pd.read_csv('penguins_size.csv')\n",
    "\n",
    "# Display the first 5 rows\n",
    "print(\"First 5 rows:\")\n",
    "print(df.head())\n",
    "\n",
    "# Display the last 5 rows\n",
    "print(\"\\nLast 5 rows:\")\n",
    "print(df.tail())"
   ]
  },
  {
   "cell_type": "markdown",
   "metadata": {},
   "source": [
    "&#9989;  **Question 2.3 (2 points)**: You should notice that a few of rows have `NaN` values. Some penguins don't like to stay still long enough to be measured <(\"). Drop these rows from the DataFrame and redisplay the dataframe to show that these rows were removed."
   ]
  },
  {
   "cell_type": "code",
   "execution_count": 10,
   "metadata": {},
   "outputs": [
    {
     "name": "stdout",
     "output_type": "stream",
     "text": [
      "\n",
      "DataFrame after removing NaN values:\n",
      "    species     island  bill_length_mm  bill_depth_mm  flipper_length_mm  \\\n",
      "0    Adelie  Torgersen            39.1           18.7              181.0   \n",
      "1    Adelie  Torgersen            39.5           17.4              186.0   \n",
      "2    Adelie  Torgersen            40.3           18.0              195.0   \n",
      "4    Adelie  Torgersen            36.7           19.3              193.0   \n",
      "5    Adelie  Torgersen            39.3           20.6              190.0   \n",
      "..      ...        ...             ...            ...                ...   \n",
      "338  Gentoo     Biscoe            47.2           13.7              214.0   \n",
      "340  Gentoo     Biscoe            46.8           14.3              215.0   \n",
      "341  Gentoo     Biscoe            50.4           15.7              222.0   \n",
      "342  Gentoo     Biscoe            45.2           14.8              212.0   \n",
      "343  Gentoo     Biscoe            49.9           16.1              213.0   \n",
      "\n",
      "     body_mass_g     sex  \n",
      "0         3750.0    MALE  \n",
      "1         3800.0  FEMALE  \n",
      "2         3250.0  FEMALE  \n",
      "4         3450.0  FEMALE  \n",
      "5         3650.0    MALE  \n",
      "..           ...     ...  \n",
      "338       4925.0  FEMALE  \n",
      "340       4850.0  FEMALE  \n",
      "341       5750.0    MALE  \n",
      "342       5200.0  FEMALE  \n",
      "343       5400.0    MALE  \n",
      "\n",
      "[334 rows x 7 columns]\n"
     ]
    }
   ],
   "source": [
    "# Remove rows with NaN values\n",
    "import pandas as pd\n",
    "df = pd.read_csv('penguins_size.csv')\n",
    "df_cleaned = df.dropna()\n",
    "\n",
    "# Display the DataFrame after removing NaN values\n",
    "print(\"\\nDataFrame after removing NaN values:\")\n",
    "print(df_cleaned)\n"
   ]
  },
  {
   "cell_type": "markdown",
   "metadata": {},
   "source": [
    "&#9989;  **Question 2.4 (4 points)**: Recall that this dataset has data on three different species of penguins. Although all three species are from the genus Pygoscelis, they are in fact very different. \n",
    "\n",
    "**Do This:** Split the data into three new DataFrames, one with just the rows with Adélie penguins, one with just the rows with Chinstrap penguins, and one with just the rows with Gentoo penguins. Display at least one of these DataFrames to convince yourself that your code worked."
   ]
  },
  {
   "cell_type": "code",
   "execution_count": 11,
   "metadata": {},
   "outputs": [
    {
     "name": "stdout",
     "output_type": "stream",
     "text": [
      "DataFrame with Adélie penguins:\n",
      "  species     island  bill_length_mm  bill_depth_mm  flipper_length_mm  \\\n",
      "0  Adelie  Torgersen            39.1           18.7              181.0   \n",
      "1  Adelie  Torgersen            39.5           17.4              186.0   \n",
      "2  Adelie  Torgersen            40.3           18.0              195.0   \n",
      "4  Adelie  Torgersen            36.7           19.3              193.0   \n",
      "5  Adelie  Torgersen            39.3           20.6              190.0   \n",
      "\n",
      "   body_mass_g     sex  \n",
      "0       3750.0    MALE  \n",
      "1       3800.0  FEMALE  \n",
      "2       3250.0  FEMALE  \n",
      "4       3450.0  FEMALE  \n",
      "5       3650.0    MALE  \n",
      "\n",
      "DataFrame with Chinstrap penguins:\n",
      "       species island  bill_length_mm  bill_depth_mm  flipper_length_mm  \\\n",
      "152  Chinstrap  Dream            46.5           17.9              192.0   \n",
      "153  Chinstrap  Dream            50.0           19.5              196.0   \n",
      "154  Chinstrap  Dream            51.3           19.2              193.0   \n",
      "155  Chinstrap  Dream            45.4           18.7              188.0   \n",
      "156  Chinstrap  Dream            52.7           19.8              197.0   \n",
      "\n",
      "     body_mass_g     sex  \n",
      "152       3500.0  FEMALE  \n",
      "153       3900.0    MALE  \n",
      "154       3650.0    MALE  \n",
      "155       3525.0  FEMALE  \n",
      "156       3725.0    MALE  \n",
      "\n",
      "DataFrame with Gentoo penguins:\n",
      "    species  island  bill_length_mm  bill_depth_mm  flipper_length_mm  \\\n",
      "220  Gentoo  Biscoe            46.1           13.2              211.0   \n",
      "221  Gentoo  Biscoe            50.0           16.3              230.0   \n",
      "222  Gentoo  Biscoe            48.7           14.1              210.0   \n",
      "223  Gentoo  Biscoe            50.0           15.2              218.0   \n",
      "224  Gentoo  Biscoe            47.6           14.5              215.0   \n",
      "\n",
      "     body_mass_g     sex  \n",
      "220       4500.0  FEMALE  \n",
      "221       5700.0    MALE  \n",
      "222       4450.0  FEMALE  \n",
      "223       5700.0    MALE  \n",
      "224       5400.0    MALE  \n"
     ]
    }
   ],
   "source": [
    "df=df_cleaned\n",
    "# Split the DataFrame based on species\n",
    "df_adelie = df[df['species'] == 'Adelie']\n",
    "df_chinstrap = df[df['species'] == 'Chinstrap']\n",
    "df_gentoo = df[df['species'] == 'Gentoo']\n",
    "\n",
    "# Display the first 5 rows of the DataFrame with Adélie penguins\n",
    "print(\"DataFrame with Adélie penguins:\")\n",
    "print(df_adelie.head())\n",
    "\n",
    "# Display the first 5 rows of the DataFrame with Chinstrap penguins\n",
    "print(\"\\nDataFrame with Chinstrap penguins:\")\n",
    "print(df_chinstrap.head())\n",
    "\n",
    "# Display the first 5 rows of the DataFrame with Gentoo penguins\n",
    "print(\"\\nDataFrame with Gentoo penguins:\")\n",
    "print(df_gentoo.head())\n"
   ]
  },
  {
   "cell_type": "markdown",
   "metadata": {},
   "source": [
    "---\n",
    "### &#128721; STOP\n",
    "**Pause to commit your changes to your Git repository!**\n",
    "\n",
    "Take a moment to save your notebook, commit the changes to your local `git` repository using the commit message \"Part 2 complete\", and push the changes to GitHub.\n",
    "\n",
    "---"
   ]
  },
  {
   "cell_type": "markdown",
   "metadata": {},
   "source": [
    "---\n",
    "## Part 3: One Variable Linear Regression (26 points)\n",
    "\n",
    "In this part, we'll perform some one-variable linear regression analysis on the penguin data.\n",
    "\n",
    "&#9989;  **Question 3.1 (3 points)**: Using the `OLS` method in `statsmodels`, perform a linear regression to predict a penguin's body mass using its bill depth and **display the results summary**. Remember that you may need to use the `add_constant()` method to make sure `OLS` fits a general line $y = ax+b$ to the data instead of a line through the origin $y = ax$. \n",
    "\n",
    "**For this problem, make sure that you're using the full penguin dataset, not just the dataframe for a single species.**"
   ]
  },
  {
   "cell_type": "code",
   "execution_count": 36,
   "metadata": {},
   "outputs": [
    {
     "name": "stdout",
     "output_type": "stream",
     "text": [
      "y = 7528.62+-193.44*bill_depth_mm\n",
      "                            OLS Regression Results                            \n",
      "==============================================================================\n",
      "Dep. Variable:            body_mass_g   R-squared:                       0.224\n",
      "Model:                            OLS   Adj. R-squared:                  0.221\n",
      "Method:                 Least Squares   F-statistic:                     95.68\n",
      "Date:                Fri, 10 Nov 2023   Prob (F-statistic):           5.07e-20\n",
      "Time:                        22:09:34   Log-Likelihood:                -2665.8\n",
      "No. Observations:                 334   AIC:                             5336.\n",
      "Df Residuals:                     332   BIC:                             5343.\n",
      "Df Model:                           1                                         \n",
      "Covariance Type:            nonrobust                                         \n",
      "=================================================================================\n",
      "                    coef    std err          t      P>|t|      [0.025      0.975]\n",
      "---------------------------------------------------------------------------------\n",
      "const          7528.6205    341.587     22.040      0.000    6856.673    8200.568\n",
      "bill_depth_mm  -193.4424     19.776     -9.782      0.000    -232.345    -154.540\n",
      "==============================================================================\n",
      "Omnibus:                        7.861   Durbin-Watson:                   2.295\n",
      "Prob(Omnibus):                  0.020   Jarque-Bera (JB):                5.993\n",
      "Skew:                           0.220   Prob(JB):                       0.0500\n",
      "Kurtosis:                       2.513   Cond. No.                         152.\n",
      "==============================================================================\n",
      "\n",
      "Notes:\n",
      "[1] Standard Errors assume that the covariance matrix of the errors is correctly specified.\n"
     ]
    }
   ],
   "source": [
    "import statsmodels.api as sm\n",
    "import pandas as pd\n",
    "\n",
    "# Put your code here\n",
    "X = df['bill_depth_mm']\n",
    "y = df['body_mass_g']\n",
    "\n",
    "# Add a constant to the independent variable for the intercept term\n",
    "Z = sm.add_constant(X)\n",
    "\n",
    "# Perform linear regression using OLS\n",
    "model1 = sm.OLS(y, Z).fit()\n",
    "coefficients = model1.params\n",
    "intercept, slope = coefficients['const'],coefficients['bill_depth_mm']\n",
    "equation = f\"y = {intercept:.2f}+{slope:.2f}*bill_depth_mm\"\n",
    "print(equation)\n",
    "# Display the regression results summary\n",
    "print(model1.summary())"
   ]
  },
  {
   "cell_type": "markdown",
   "metadata": {},
   "source": [
    "&#9989;  **Question 3.2 (3 points)**: Answer the following questions: \n",
    "\n",
    "1. What was the equation of the best fit linear relationship between a penguin's body mass and its bill depth?\n",
    "\n",
    "2. As a penguin's bill depth increases, does its body mass increase or decrease? What tells you this?\n",
    "\n",
    "3. Based on the $p$-value for the bill depth, is the relationship you found between a penguin's body mass and bill depth statistically significant? Justify yor answer."
   ]
  },
  {
   "cell_type": "markdown",
   "metadata": {},
   "source": [
    "<font size=+3>&#9998;</font> Put your answers here:\n",
    "The equation is y = 7528.62+-193.44*bill_depth_mm\n",
    "As the bill depth increase the body mass seems to be decrease over all. \n",
    "Base on the P value the relationship that found between a penguni's mass and its bill depth sttatically is signficant. Because the p value for the const is just zero. "
   ]
  },
  {
   "cell_type": "markdown",
   "metadata": {},
   "source": [
    "&#9989;  **Question 3.3 (6 points, 2 points per part)**: Now, let's repeat the linear regression, but for each species separately.  It will likely help you later in this question to make sure that the variable names for the OLS model and OLS results are different for each species. That way, you won't overwrite one model with another.\n",
    "\n",
    "&#9989;  **Question 3.3.Adélie (2 points)**: Using the `OLS` method in `statsmodels`, perform a linear regression to predict an  **Adélie** penguin's body mass using its bill depth and display the results summary."
   ]
  },
  {
   "cell_type": "code",
   "execution_count": 45,
   "metadata": {},
   "outputs": [
    {
     "name": "stdout",
     "output_type": "stream",
     "text": [
      "y = -297.38+218.21*bill_depth_mm\n",
      "                            OLS Regression Results                            \n",
      "==============================================================================\n",
      "Dep. Variable:            body_mass_g   R-squared:                       0.337\n",
      "Model:                            OLS   Adj. R-squared:                  0.332\n",
      "Method:                 Least Squares   F-statistic:                     73.06\n",
      "Date:                Fri, 10 Nov 2023   Prob (F-statistic):           1.67e-14\n",
      "Time:                        22:59:31   Log-Likelihood:                -1071.4\n",
      "No. Observations:                 146   AIC:                             2147.\n",
      "Df Residuals:                     144   BIC:                             2153.\n",
      "Df Model:                           1                                         \n",
      "Covariance Type:            nonrobust                                         \n",
      "=================================================================================\n",
      "                    coef    std err          t      P>|t|      [0.025      0.975]\n",
      "---------------------------------------------------------------------------------\n",
      "const          -297.3829    469.422     -0.634      0.527   -1225.231     630.465\n",
      "bill_depth_mm   218.2095     25.529      8.547      0.000     167.749     268.670\n",
      "==============================================================================\n",
      "Omnibus:                        4.410   Durbin-Watson:                   2.326\n",
      "Prob(Omnibus):                  0.110   Jarque-Bera (JB):                4.401\n",
      "Skew:                           0.422   Prob(JB):                        0.111\n",
      "Kurtosis:                       2.889   Cond. No.                         279.\n",
      "==============================================================================\n",
      "\n",
      "Notes:\n",
      "[1] Standard Errors assume that the covariance matrix of the errors is correctly specified.\n"
     ]
    }
   ],
   "source": [
    "\n",
    "# Prepare the data for the regression\n",
    "X = df_adelie['bill_depth_mm']\n",
    "y = df_adelie['body_mass_g']   # Dependent variable (body mass)\n",
    "\n",
    "# Add a constant to the independent variable for the intercept term\n",
    "X = sm.add_constant(X)\n",
    "\n",
    "# Fit the linear regression model\n",
    "model2 = sm.OLS(y, X).fit()\n",
    "coefficients = model2.params\n",
    "intercept, slope = coefficients['const'],coefficients['bill_depth_mm']\n",
    "equation = f\"y = {intercept:.2f}+{slope:.2f}*bill_depth_mm\"\n",
    "print(equation)\n",
    "# Display the results summary\n",
    "print(model2.summary())"
   ]
  },
  {
   "cell_type": "markdown",
   "metadata": {},
   "source": [
    "&#9989;  **Question 3.3.Chinstrap (2 points)**: Using the `OLS` method in `statsmodels`, perform a linear regression to predict a  **Chinstrap** penguin's body mass using its bill depth and display the results summary."
   ]
  },
  {
   "cell_type": "code",
   "execution_count": 46,
   "metadata": {},
   "outputs": [
    {
     "name": "stdout",
     "output_type": "stream",
     "text": [
      "y = -36.22+204.62*bill_depth_mm\n",
      "                            OLS Regression Results                            \n",
      "==============================================================================\n",
      "Dep. Variable:            body_mass_g   R-squared:                       0.365\n",
      "Model:                            OLS   Adj. R-squared:                  0.356\n",
      "Method:                 Least Squares   F-statistic:                     38.01\n",
      "Date:                Fri, 10 Nov 2023   Prob (F-statistic):           4.79e-08\n",
      "Time:                        22:59:37   Log-Likelihood:                -485.22\n",
      "No. Observations:                  68   AIC:                             974.4\n",
      "Df Residuals:                      66   BIC:                             978.9\n",
      "Df Model:                           1                                         \n",
      "Covariance Type:            nonrobust                                         \n",
      "=================================================================================\n",
      "                    coef    std err          t      P>|t|      [0.025      0.975]\n",
      "---------------------------------------------------------------------------------\n",
      "const           -36.2192    612.561     -0.059      0.953   -1259.238    1186.799\n",
      "bill_depth_mm   204.6247     33.192      6.165      0.000     138.355     270.895\n",
      "==============================================================================\n",
      "Omnibus:                        0.100   Durbin-Watson:                   2.542\n",
      "Prob(Omnibus):                  0.951   Jarque-Bera (JB):                0.019\n",
      "Skew:                           0.035   Prob(JB):                        0.990\n",
      "Kurtosis:                       2.955   Cond. No.                         303.\n",
      "==============================================================================\n",
      "\n",
      "Notes:\n",
      "[1] Standard Errors assume that the covariance matrix of the errors is correctly specified.\n"
     ]
    }
   ],
   "source": [
    "# Prepare the data for the regression\n",
    "X = df_chinstrap['bill_depth_mm']\n",
    "y = df_chinstrap['body_mass_g']   # Dependent variable (body mass)\n",
    "\n",
    "# Add a constant to the independent variable for the intercept term\n",
    "X = sm.add_constant(X)\n",
    "\n",
    "# Fit the linear regression model\n",
    "model3 = sm.OLS(y, X).fit()\n",
    "coefficients = model3.params\n",
    "intercept, slope = coefficients['const'],coefficients['bill_depth_mm']\n",
    "equation = f\"y = {intercept:.2f}+{slope:.2f}*bill_depth_mm\"\n",
    "print(equation)\n",
    "# Display the results summary\n",
    "print(model3.summary())"
   ]
  },
  {
   "cell_type": "markdown",
   "metadata": {},
   "source": [
    "&#9989;  **Question 3.3.Gentoo (2 points)**: Using the `OLS` method in `statsmodels`, perform a linear regression to predict a  **Gentoo** penguin's body mass using its bill depth and display the results summary."
   ]
  },
  {
   "cell_type": "code",
   "execution_count": 47,
   "metadata": {},
   "outputs": [
    {
     "name": "stdout",
     "output_type": "stream",
     "text": [
      "y = -382.54+364.82*bill_depth_mm\n",
      "                            OLS Regression Results                            \n",
      "==============================================================================\n",
      "Dep. Variable:            body_mass_g   R-squared:                       0.516\n",
      "Model:                            OLS   Adj. R-squared:                  0.512\n",
      "Method:                 Least Squares   F-statistic:                     125.8\n",
      "Date:                Fri, 10 Nov 2023   Prob (F-statistic):           2.61e-20\n",
      "Time:                        22:59:40   Log-Likelihood:                -871.94\n",
      "No. Observations:                 120   AIC:                             1748.\n",
      "Df Residuals:                     118   BIC:                             1753.\n",
      "Df Model:                           1                                         \n",
      "Covariance Type:            nonrobust                                         \n",
      "=================================================================================\n",
      "                    coef    std err          t      P>|t|      [0.025      0.975]\n",
      "---------------------------------------------------------------------------------\n",
      "const          -382.5446    489.106     -0.782      0.436   -1351.107     586.018\n",
      "bill_depth_mm   364.8172     32.532     11.214      0.000     300.394     429.240\n",
      "==============================================================================\n",
      "Omnibus:                        5.552   Durbin-Watson:                   2.529\n",
      "Prob(Omnibus):                  0.062   Jarque-Bera (JB):                5.143\n",
      "Skew:                           0.498   Prob(JB):                       0.0764\n",
      "Kurtosis:                       3.196   Cond. No.                         232.\n",
      "==============================================================================\n",
      "\n",
      "Notes:\n",
      "[1] Standard Errors assume that the covariance matrix of the errors is correctly specified.\n",
      "const           -382.544587\n",
      "bill_depth_mm    364.817170\n",
      "dtype: float64\n"
     ]
    }
   ],
   "source": [
    "# Put your code here\n",
    "X = df_gentoo['bill_depth_mm']\n",
    "y = df_gentoo['body_mass_g']   # Dependent variable (body mass)\n",
    "\n",
    "# Add a constant to the independent variable for the intercept term\n",
    "X = sm.add_constant(X)\n",
    "\n",
    "# Fit the linear regression model\n",
    "model4 = sm.OLS(y, X).fit()\n",
    "coefficients = model4.params\n",
    "intercept, slope = coefficients['const'],coefficients['bill_depth_mm']\n",
    "equation = f\"y = {intercept:.2f}+{slope:.2f}*bill_depth_mm\"\n",
    "print(equation)\n",
    "# Display the results summary\n",
    "print(model4.summary())\n",
    "print(model4.params)"
   ]
  },
  {
   "cell_type": "markdown",
   "metadata": {},
   "source": [
    "&#9989;  **Question 3.4 (5 points)**: Answer the following questions: \n",
    "\n",
    "1. For each of the three species of penguins, what was the equation of the best fit linear relationship between the species' body mass and bill depth?\n",
    "\n",
    "2. For each of the three species of penguins, as its bill depth increases, does its body mass increase or decrease? \n",
    "\n",
    "3. Based on the $p$-values for the bill depth, is the relationship between each species' body mass and bill depth statistically significant?"
   ]
  },
  {
   "cell_type": "markdown",
   "metadata": {},
   "source": [
    "<font size=+3>&#9998;</font> Put your answers here:\n",
    "\n",
    "1) For the equation penguin Adélie is y = -297.38+218.21*bill_depth_mm. For Chinstrap the equation is y = -36.22+204.62*bill_depth_mm, for Gentoo the equation is y = -382.54+364.82*bill_depth_mm. \n",
    " \n",
    "2) For the three speicies, for all of them as depth increase, the body mass all increase for all species.\n",
    "\n",
    "3) Base on the p value all of them are zero. which states they are statistically signficant"
   ]
  },
  {
   "cell_type": "markdown",
   "metadata": {},
   "source": [
    "&#9989;  **Question 3.5 (6 points)**: Assuming you did everything correctly, the relationship between a penguin's body mass and it's bill depth is the opposite when you split the data by species. This might seem confusing to you. Part of the reason for this is because we skipped a very important step regarding dealing with unfamiliar data, that is **visualizing the data**. \n",
    "\n",
    "**Do this**: Make a scatterplot showing the penguins' body mass vs. bill depth. Color code the dots so that each species gets a different color. Then, display the best fit line for each of the three species using the same color and display the best fit line for all the penguins using a different color. Don't forget to label your axes. When you're done, you should have a plot that contains three different colors of dots and 4 different lines (3 of the lines should match the colors of the three penguin species, respectively)\n",
    "\n",
    "**Hint**: We've included a function to help you plot a line. Feel free to use it, or not. "
   ]
  },
  {
   "cell_type": "code",
   "execution_count": 48,
   "metadata": {},
   "outputs": [],
   "source": [
    "# Put your code here\n",
    "\n",
    "import matplotlib.pyplot as plt\n",
    "import numpy as np\n",
    "def plot_line(slope, intercept, xmin, xmax, color):\n",
    "    xline = np.array([xmin,xmax])\n",
    "    yline = slope*xline+intercept\n",
    "    plt.plot(xline,yline,color)"
   ]
  },
  {
   "cell_type": "code",
   "execution_count": 49,
   "metadata": {},
   "outputs": [
    {
     "data": {
      "image/png": "[encoded data removed]",
      "text/plain": [
       "<Figure size 432x288 with 1 Axes>"
      ]
     },
     "metadata": {
      "needs_background": "light"
     },
     "output_type": "display_data"
    }
   ],
   "source": [
    "import matplotlib.pyplot as plt\n",
    "import pandas as pd\n",
    "# Assuming you have imported necessary libraries and defined the plot_line function\n",
    "\n",
    "# Put your code here\n",
    "plt.scatter(df_gentoo['bill_depth_mm'], df_gentoo['body_mass_g'], label='Gentoo')\n",
    "plt.scatter(df_chinstrap['bill_depth_mm'], df_chinstrap['body_mass_g'], label='Chinstrap')\n",
    "plt.scatter(df_adelie['bill_depth_mm'], df_adelie['body_mass_g'], label='Adelie')\n",
    "inter, slope = model1.params\n",
    "inter1, slope1 = model2.params\n",
    "inter2, slope2 = model3.params\n",
    "inter3, slope3 = model4.params\n",
    "\n",
    "# Plot regression line\n",
    "plot_line(slope, inter, df['bill_depth_mm'].min(), df['bill_depth_mm'].max(), color='r')\n",
    "plot_line(slope1, inter1, df_gentoo['bill_depth_mm'].min(), df_gentoo['bill_depth_mm'].max(), color='b')\n",
    "plot_line(slope2, inter2, df_chinstrap['bill_depth_mm'].min(), df_chinstrap['bill_depth_mm'].max(), color='pink')\n",
    "plot_line(slope3, inter3, df_adelie['bill_depth_mm'].min(), df_adelie['bill_depth_mm'].max(), color='purple')\n",
    "\n",
    "# Adding labels and title\n",
    "plt.title('Scatter Plot Example')\n",
    "plt.xlabel('Bill Depth (mm)')\n",
    "plt.ylabel('Body Mass (g)')\n",
    "\n",
    "# Show the legend\n",
    "plt.legend()\n",
    "\n",
    "# Show the plot\n",
    "plt.show()\n",
    "\n"
   ]
  },
  {
   "cell_type": "markdown",
   "metadata": {},
   "source": [
    "&#9989;  **Question 3.6 (3 points)**: Now that you've visualized the data, can you give an explaination as to why the relationship between a penguin's body mass and bill depth changed drastically when we split the data by species?"
   ]
  },
  {
   "cell_type": "markdown",
   "metadata": {},
   "source": [
    "<font size=+3>&#9998;</font> Put your answers here: As can be seen that the gentoo mass increase much higher as as its bill Depth increaes too. but the Gentoo weight increase from lower Bill depth. As for chinstrap and Adelie both of them are both increase the bill depth along with weight. But both of them are increase weight much slower compare to gentoo which lead to overall slope to go down.  "
   ]
  },
  {
   "cell_type": "markdown",
   "metadata": {},
   "source": [
    "---\n",
    "### &#128721; STOP\n",
    "**Pause to commit your changes to your Git repository!**\n",
    "\n",
    "Take a moment to save your notebook, commit the changes to your local `git` repository using the commit message \"Part 3 complete\", and push the changes to GitHub.\n",
    "\n",
    "---"
   ]
  },
  {
   "cell_type": "markdown",
   "metadata": {},
   "source": [
    "## Part 4: Multiple Regression (20 points)\n",
    "\n",
    "In this part, we'll use multiple features to predict the body mass of a Chinstrap penguin. "
   ]
  },
  {
   "cell_type": "markdown",
   "metadata": {},
   "source": [
    "&#9989;  **Question 4.1 (3 points)**: Using the `OLS` method in `statsmodels`, perform a multivariable linear regression to predict a  **Chinstrap** penguin's body mass given just its bill length, bill depth, and flipper length. Be sure to use the `add_constant()` method to ensure `OLS` includes a constant term in its model. As before, make sure to **display a summary of your results**."
   ]
  },
  {
   "cell_type": "code",
   "execution_count": 50,
   "metadata": {},
   "outputs": [
    {
     "name": "stdout",
     "output_type": "stream",
     "text": [
      "                            OLS Regression Results                            \n",
      "==============================================================================\n",
      "Dep. Variable:            body_mass_g   R-squared:                       0.504\n",
      "Model:                            OLS   Adj. R-squared:                  0.481\n",
      "Method:                 Least Squares   F-statistic:                     21.66\n",
      "Date:                Fri, 10 Nov 2023   Prob (F-statistic):           8.48e-10\n",
      "Time:                        23:00:22   Log-Likelihood:                -476.86\n",
      "No. Observations:                  68   AIC:                             961.7\n",
      "Df Residuals:                      64   BIC:                             970.6\n",
      "Df Model:                           3                                         \n",
      "Covariance Type:            nonrobust                                         \n",
      "=====================================================================================\n",
      "                        coef    std err          t      P>|t|      [0.025      0.975]\n",
      "-------------------------------------------------------------------------------------\n",
      "const             -3157.5301    932.364     -3.387      0.001   -5020.141   -1294.919\n",
      "bill_length_mm       16.0392     13.542      1.184      0.241     -11.015      43.093\n",
      "bill_depth_mm        91.5127     43.120      2.122      0.038       5.371     177.654\n",
      "flipper_length_mm    22.5797      5.892      3.832      0.000      10.809      34.351\n",
      "==============================================================================\n",
      "Omnibus:                        0.879   Durbin-Watson:                   2.477\n",
      "Prob(Omnibus):                  0.644   Jarque-Bera (JB):                0.330\n",
      "Skew:                          -0.037   Prob(JB):                        0.848\n",
      "Kurtosis:                       3.333   Cond. No.                     5.63e+03\n",
      "==============================================================================\n",
      "\n",
      "Notes:\n",
      "[1] Standard Errors assume that the covariance matrix of the errors is correctly specified.\n",
      "[2] The condition number is large, 5.63e+03. This might indicate that there are\n",
      "strong multicollinearity or other numerical problems.\n"
     ]
    }
   ],
   "source": [
    "# Put your code here\n",
    "import statsmodels.api as sm\n",
    "from statsmodels.tools import add_constant\n",
    "\n",
    "# Assuming df_chinstrap is your DataFrame for Chinstrap penguins\n",
    "\n",
    "# Add a constant term to the independent variables\n",
    "X = add_constant(df_chinstrap[['bill_length_mm','bill_depth_mm','flipper_length_mm']])\n",
    "\n",
    "# Dependent variable\n",
    "y = df_chinstrap['body_mass_g']\n",
    "\n",
    "# Fit the model\n",
    "model = sm.OLS(y, X).fit()\n",
    "\n",
    "# Display the summary of the regression\n",
    "print(model.summary())\n"
   ]
  },
  {
   "cell_type": "markdown",
   "metadata": {},
   "source": [
    "&#9989;  **Question 4.2 (4 points)**: Answer the following questions: \n",
    "\n",
    "1. Suppose the Chinstrap penguin in the image above has a bill length of 52.0 mm, a bill depth of 20.7 mm, and a flipper length of 210.0 mm. What does your linear model predict the Chinstrap penguin's body mass (in g) is? Explain how you got your answer.\n",
    "\n",
    "2. For each of the features, specify if it is statistically significant or not. Briefly justify your answers."
   ]
  },
  {
   "cell_type": "code",
   "execution_count": 51,
   "metadata": {},
   "outputs": [
    {
     "name": "stdout",
     "output_type": "stream",
     "text": [
      "[4312.56743036]\n"
     ]
    }
   ],
   "source": [
    "new_data = np.array([1, 52.0, 20.7, 210.0])\n",
    "# Predict the body mass\n",
    "predic= model.predict(new_data)\n",
    "print(predic)\n",
    "\n"
   ]
  },
  {
   "cell_type": "markdown",
   "metadata": {},
   "source": [
    "<font size=+3>&#9998;</font> Put your answers here:\n",
    "The linear model predict the body mass is 4312.567. I used the model that already had the equations and I used it to calculate new mass by give it new datas. The bill_length_mm little signficant because it has the p value of 0.160 which have affect on the depedent varibles. The billl-depth_mm is really statistically signficant compared to bill length mm. It as p value of 0.953. The worst of all is flipper length mm. It has no affect on the depedent varilbes since the p value is 0.003. \n",
    "\n",
    "The 'bill_length_mm' = 0.160\n",
    ",'bill_depth_mm' 0.953\n",
    "The flipper = 0.003\n"
   ]
  },
  {
   "cell_type": "markdown",
   "metadata": {},
   "source": [
    "&#9989;  **Question 4.3 (3 points)**: Perform the same multivariable linear regression again, but this time with just the **two most significant features**. Even if you got that 0, 1, or 3 of the features were significant, just pick the two you think are most significant for this question. Display the summary of these results."
   ]
  },
  {
   "cell_type": "code",
   "execution_count": 52,
   "metadata": {},
   "outputs": [
    {
     "name": "stdout",
     "output_type": "stream",
     "text": [
      "                            OLS Regression Results                            \n",
      "==============================================================================\n",
      "Dep. Variable:            body_mass_g   R-squared:                       0.390\n",
      "Model:                            OLS   Adj. R-squared:                  0.371\n",
      "Method:                 Least Squares   F-statistic:                     20.78\n",
      "Date:                Fri, 10 Nov 2023   Prob (F-statistic):           1.06e-07\n",
      "Time:                        23:00:24   Log-Likelihood:                -483.88\n",
      "No. Observations:                  68   AIC:                             973.8\n",
      "Df Residuals:                      65   BIC:                             980.4\n",
      "Df Model:                           2                                         \n",
      "Covariance Type:            nonrobust                                         \n",
      "==================================================================================\n",
      "                     coef    std err          t      P>|t|      [0.025      0.975]\n",
      "----------------------------------------------------------------------------------\n",
      "const           -356.1065    636.709     -0.559      0.578   -1627.703     915.490\n",
      "bill_length_mm    23.8226     14.731      1.617      0.111      -5.598      53.243\n",
      "bill_depth_mm    158.8357     43.326      3.666      0.000      72.308     245.364\n",
      "==============================================================================\n",
      "Omnibus:                        0.155   Durbin-Watson:                   2.510\n",
      "Prob(Omnibus):                  0.925   Jarque-Bera (JB):                0.001\n",
      "Skew:                           0.010   Prob(JB):                        0.999\n",
      "Kurtosis:                       3.010   Cond. No.                         902.\n",
      "==============================================================================\n",
      "\n",
      "Notes:\n",
      "[1] Standard Errors assume that the covariance matrix of the errors is correctly specified.\n"
     ]
    }
   ],
   "source": [
    "# Put your code here\n",
    "# Put your code here\n",
    "import statsmodels.api as sm\n",
    "from statsmodels.tools import add_constant\n",
    "\n",
    "# Assuming df_chinstrap is your DataFrame for Chinstrap penguins\n",
    "\n",
    "# Add a constant term to the independent variables\n",
    "X = add_constant(df_chinstrap[['bill_length_mm', 'bill_depth_mm']])\n",
    "\n",
    "# Dependent variable\n",
    "y = df_chinstrap['body_mass_g']\n",
    "\n",
    "# Fit the model\n",
    "model = sm.OLS(y, X).fit()\n",
    "\n",
    "# Display the summary of the regression\n",
    "print(model.summary())\n"
   ]
  },
  {
   "cell_type": "markdown",
   "metadata": {},
   "source": [
    "&#9989;  **Question 4.4 (4 points)**: Answer these questions: \n",
    "\n",
    "1. Qualitatively, how much better/worse is the reduced model compared to the original model? Briefly justify your answer.\n",
    "\n",
    "2. Explain in your own words why we might want to use a model with fewer features, even if it fits the data a bit worse than a model with more features."
   ]
  },
  {
   "cell_type": "markdown",
   "metadata": {},
   "source": [
    "<font size=+3>&#9998;</font> Put your answers here:\n",
    "1) No matter what two or one features it will be better than with the three feathers. I test out with many alternives orders of two differt features and with just one features. All of them are better than the first. \n",
    "2)With lower amount of features is it much better for "
   ]
  },
  {
   "cell_type": "markdown",
   "metadata": {},
   "source": [
    "&#9989;  **Question 4.5 (2 points)**: Suppose we wanted to use the sex of a Chinstrap penguin as a feature to predict its body mass. Will simply including the `sex` column in the second argument to `OLS()` work? If not, why, and what could we do to fix it?"
   ]
  },
  {
   "cell_type": "code",
   "execution_count": 53,
   "metadata": {},
   "outputs": [
    {
     "ename": "ValueError",
     "evalue": "Pandas data cast to numpy dtype of object. Check input data with np.asarray(data).",
     "output_type": "error",
     "traceback": [
      "\u001b[0;31m---------------------------------------------------------------------------\u001b[0m",
      "\u001b[0;31mValueError\u001b[0m                                Traceback (most recent call last)",
      "\u001b[0;32m<ipython-input-53-2bf39807bb2c>\u001b[0m in \u001b[0;36m<module>\u001b[0;34m\u001b[0m\n\u001b[1;32m     12\u001b[0m \u001b[0;34m\u001b[0m\u001b[0m\n\u001b[1;32m     13\u001b[0m \u001b[0;31m# Fit the model\u001b[0m\u001b[0;34m\u001b[0m\u001b[0;34m\u001b[0m\u001b[0;34m\u001b[0m\u001b[0m\n\u001b[0;32m---> 14\u001b[0;31m \u001b[0mmodel\u001b[0m \u001b[0;34m=\u001b[0m \u001b[0msm\u001b[0m\u001b[0;34m.\u001b[0m\u001b[0mOLS\u001b[0m\u001b[0;34m(\u001b[0m\u001b[0my\u001b[0m\u001b[0;34m,\u001b[0m \u001b[0mX\u001b[0m\u001b[0;34m)\u001b[0m\u001b[0;34m.\u001b[0m\u001b[0mfit\u001b[0m\u001b[0;34m(\u001b[0m\u001b[0;34m)\u001b[0m\u001b[0;34m\u001b[0m\u001b[0;34m\u001b[0m\u001b[0m\n\u001b[0m\u001b[1;32m     15\u001b[0m \u001b[0;34m\u001b[0m\u001b[0m\n\u001b[1;32m     16\u001b[0m \u001b[0;31m# Display the summary of the regression\u001b[0m\u001b[0;34m\u001b[0m\u001b[0;34m\u001b[0m\u001b[0;34m\u001b[0m\u001b[0m\n",
      "\u001b[0;32m/opt/anaconda3/lib/python3.8/site-packages/statsmodels/regression/linear_model.py\u001b[0m in \u001b[0;36m__init__\u001b[0;34m(self, endog, exog, missing, hasconst, **kwargs)\u001b[0m\n\u001b[1;32m    870\u001b[0m     def __init__(self, endog, exog=None, missing='none', hasconst=None,\n\u001b[1;32m    871\u001b[0m                  **kwargs):\n\u001b[0;32m--> 872\u001b[0;31m         super(OLS, self).__init__(endog, exog, missing=missing,\n\u001b[0m\u001b[1;32m    873\u001b[0m                                   hasconst=hasconst, **kwargs)\n\u001b[1;32m    874\u001b[0m         \u001b[0;32mif\u001b[0m \u001b[0;34m\"weights\"\u001b[0m \u001b[0;32min\u001b[0m \u001b[0mself\u001b[0m\u001b[0;34m.\u001b[0m\u001b[0m_init_keys\u001b[0m\u001b[0;34m:\u001b[0m\u001b[0;34m\u001b[0m\u001b[0;34m\u001b[0m\u001b[0m\n",
      "\u001b[0;32m/opt/anaconda3/lib/python3.8/site-packages/statsmodels/regression/linear_model.py\u001b[0m in \u001b[0;36m__init__\u001b[0;34m(self, endog, exog, weights, missing, hasconst, **kwargs)\u001b[0m\n\u001b[1;32m    701\u001b[0m         \u001b[0;32melse\u001b[0m\u001b[0;34m:\u001b[0m\u001b[0;34m\u001b[0m\u001b[0;34m\u001b[0m\u001b[0m\n\u001b[1;32m    702\u001b[0m             \u001b[0mweights\u001b[0m \u001b[0;34m=\u001b[0m \u001b[0mweights\u001b[0m\u001b[0;34m.\u001b[0m\u001b[0msqueeze\u001b[0m\u001b[0;34m(\u001b[0m\u001b[0;34m)\u001b[0m\u001b[0;34m\u001b[0m\u001b[0;34m\u001b[0m\u001b[0m\n\u001b[0;32m--> 703\u001b[0;31m         super(WLS, self).__init__(endog, exog, missing=missing,\n\u001b[0m\u001b[1;32m    704\u001b[0m                                   weights=weights, hasconst=hasconst, **kwargs)\n\u001b[1;32m    705\u001b[0m         \u001b[0mnobs\u001b[0m \u001b[0;34m=\u001b[0m \u001b[0mself\u001b[0m\u001b[0;34m.\u001b[0m\u001b[0mexog\u001b[0m\u001b[0;34m.\u001b[0m\u001b[0mshape\u001b[0m\u001b[0;34m[\u001b[0m\u001b[0;36m0\u001b[0m\u001b[0;34m]\u001b[0m\u001b[0;34m\u001b[0m\u001b[0;34m\u001b[0m\u001b[0m\n",
      "\u001b[0;32m/opt/anaconda3/lib/python3.8/site-packages/statsmodels/regression/linear_model.py\u001b[0m in \u001b[0;36m__init__\u001b[0;34m(self, endog, exog, **kwargs)\u001b[0m\n\u001b[1;32m    188\u001b[0m     \"\"\"\n\u001b[1;32m    189\u001b[0m     \u001b[0;32mdef\u001b[0m \u001b[0m__init__\u001b[0m\u001b[0;34m(\u001b[0m\u001b[0mself\u001b[0m\u001b[0;34m,\u001b[0m \u001b[0mendog\u001b[0m\u001b[0;34m,\u001b[0m \u001b[0mexog\u001b[0m\u001b[0;34m,\u001b[0m \u001b[0;34m**\u001b[0m\u001b[0mkwargs\u001b[0m\u001b[0;34m)\u001b[0m\u001b[0;34m:\u001b[0m\u001b[0;34m\u001b[0m\u001b[0;34m\u001b[0m\u001b[0m\n\u001b[0;32m--> 190\u001b[0;31m         \u001b[0msuper\u001b[0m\u001b[0;34m(\u001b[0m\u001b[0mRegressionModel\u001b[0m\u001b[0;34m,\u001b[0m \u001b[0mself\u001b[0m\u001b[0;34m)\u001b[0m\u001b[0;34m.\u001b[0m\u001b[0m__init__\u001b[0m\u001b[0;34m(\u001b[0m\u001b[0mendog\u001b[0m\u001b[0;34m,\u001b[0m \u001b[0mexog\u001b[0m\u001b[0;34m,\u001b[0m \u001b[0;34m**\u001b[0m\u001b[0mkwargs\u001b[0m\u001b[0;34m)\u001b[0m\u001b[0;34m\u001b[0m\u001b[0;34m\u001b[0m\u001b[0m\n\u001b[0m\u001b[1;32m    191\u001b[0m         \u001b[0mself\u001b[0m\u001b[0;34m.\u001b[0m\u001b[0m_data_attr\u001b[0m\u001b[0;34m.\u001b[0m\u001b[0mextend\u001b[0m\u001b[0;34m(\u001b[0m\u001b[0;34m[\u001b[0m\u001b[0;34m'pinv_wexog'\u001b[0m\u001b[0;34m,\u001b[0m \u001b[0;34m'weights'\u001b[0m\u001b[0;34m]\u001b[0m\u001b[0;34m)\u001b[0m\u001b[0;34m\u001b[0m\u001b[0;34m\u001b[0m\u001b[0m\n\u001b[1;32m    192\u001b[0m \u001b[0;34m\u001b[0m\u001b[0m\n",
      "\u001b[0;32m/opt/anaconda3/lib/python3.8/site-packages/statsmodels/base/model.py\u001b[0m in \u001b[0;36m__init__\u001b[0;34m(self, endog, exog, **kwargs)\u001b[0m\n\u001b[1;32m    235\u001b[0m \u001b[0;34m\u001b[0m\u001b[0m\n\u001b[1;32m    236\u001b[0m     \u001b[0;32mdef\u001b[0m \u001b[0m__init__\u001b[0m\u001b[0;34m(\u001b[0m\u001b[0mself\u001b[0m\u001b[0;34m,\u001b[0m \u001b[0mendog\u001b[0m\u001b[0;34m,\u001b[0m \u001b[0mexog\u001b[0m\u001b[0;34m=\u001b[0m\u001b[0;32mNone\u001b[0m\u001b[0;34m,\u001b[0m \u001b[0;34m**\u001b[0m\u001b[0mkwargs\u001b[0m\u001b[0;34m)\u001b[0m\u001b[0;34m:\u001b[0m\u001b[0;34m\u001b[0m\u001b[0;34m\u001b[0m\u001b[0m\n\u001b[0;32m--> 237\u001b[0;31m         \u001b[0msuper\u001b[0m\u001b[0;34m(\u001b[0m\u001b[0mLikelihoodModel\u001b[0m\u001b[0;34m,\u001b[0m \u001b[0mself\u001b[0m\u001b[0;34m)\u001b[0m\u001b[0;34m.\u001b[0m\u001b[0m__init__\u001b[0m\u001b[0;34m(\u001b[0m\u001b[0mendog\u001b[0m\u001b[0;34m,\u001b[0m \u001b[0mexog\u001b[0m\u001b[0;34m,\u001b[0m \u001b[0;34m**\u001b[0m\u001b[0mkwargs\u001b[0m\u001b[0;34m)\u001b[0m\u001b[0;34m\u001b[0m\u001b[0;34m\u001b[0m\u001b[0m\n\u001b[0m\u001b[1;32m    238\u001b[0m         \u001b[0mself\u001b[0m\u001b[0;34m.\u001b[0m\u001b[0minitialize\u001b[0m\u001b[0;34m(\u001b[0m\u001b[0;34m)\u001b[0m\u001b[0;34m\u001b[0m\u001b[0;34m\u001b[0m\u001b[0m\n\u001b[1;32m    239\u001b[0m \u001b[0;34m\u001b[0m\u001b[0m\n",
      "\u001b[0;32m/opt/anaconda3/lib/python3.8/site-packages/statsmodels/base/model.py\u001b[0m in \u001b[0;36m__init__\u001b[0;34m(self, endog, exog, **kwargs)\u001b[0m\n\u001b[1;32m     75\u001b[0m         \u001b[0mmissing\u001b[0m \u001b[0;34m=\u001b[0m \u001b[0mkwargs\u001b[0m\u001b[0;34m.\u001b[0m\u001b[0mpop\u001b[0m\u001b[0;34m(\u001b[0m\u001b[0;34m'missing'\u001b[0m\u001b[0;34m,\u001b[0m \u001b[0;34m'none'\u001b[0m\u001b[0;34m)\u001b[0m\u001b[0;34m\u001b[0m\u001b[0;34m\u001b[0m\u001b[0m\n\u001b[1;32m     76\u001b[0m         \u001b[0mhasconst\u001b[0m \u001b[0;34m=\u001b[0m \u001b[0mkwargs\u001b[0m\u001b[0;34m.\u001b[0m\u001b[0mpop\u001b[0m\u001b[0;34m(\u001b[0m\u001b[0;34m'hasconst'\u001b[0m\u001b[0;34m,\u001b[0m \u001b[0;32mNone\u001b[0m\u001b[0;34m)\u001b[0m\u001b[0;34m\u001b[0m\u001b[0;34m\u001b[0m\u001b[0m\n\u001b[0;32m---> 77\u001b[0;31m         self.data = self._handle_data(endog, exog, missing, hasconst,\n\u001b[0m\u001b[1;32m     78\u001b[0m                                       **kwargs)\n\u001b[1;32m     79\u001b[0m         \u001b[0mself\u001b[0m\u001b[0;34m.\u001b[0m\u001b[0mk_constant\u001b[0m \u001b[0;34m=\u001b[0m \u001b[0mself\u001b[0m\u001b[0;34m.\u001b[0m\u001b[0mdata\u001b[0m\u001b[0;34m.\u001b[0m\u001b[0mk_constant\u001b[0m\u001b[0;34m\u001b[0m\u001b[0;34m\u001b[0m\u001b[0m\n",
      "\u001b[0;32m/opt/anaconda3/lib/python3.8/site-packages/statsmodels/base/model.py\u001b[0m in \u001b[0;36m_handle_data\u001b[0;34m(self, endog, exog, missing, hasconst, **kwargs)\u001b[0m\n\u001b[1;32m     99\u001b[0m \u001b[0;34m\u001b[0m\u001b[0m\n\u001b[1;32m    100\u001b[0m     \u001b[0;32mdef\u001b[0m \u001b[0m_handle_data\u001b[0m\u001b[0;34m(\u001b[0m\u001b[0mself\u001b[0m\u001b[0;34m,\u001b[0m \u001b[0mendog\u001b[0m\u001b[0;34m,\u001b[0m \u001b[0mexog\u001b[0m\u001b[0;34m,\u001b[0m \u001b[0mmissing\u001b[0m\u001b[0;34m,\u001b[0m \u001b[0mhasconst\u001b[0m\u001b[0;34m,\u001b[0m \u001b[0;34m**\u001b[0m\u001b[0mkwargs\u001b[0m\u001b[0;34m)\u001b[0m\u001b[0;34m:\u001b[0m\u001b[0;34m\u001b[0m\u001b[0;34m\u001b[0m\u001b[0m\n\u001b[0;32m--> 101\u001b[0;31m         \u001b[0mdata\u001b[0m \u001b[0;34m=\u001b[0m \u001b[0mhandle_data\u001b[0m\u001b[0;34m(\u001b[0m\u001b[0mendog\u001b[0m\u001b[0;34m,\u001b[0m \u001b[0mexog\u001b[0m\u001b[0;34m,\u001b[0m \u001b[0mmissing\u001b[0m\u001b[0;34m,\u001b[0m \u001b[0mhasconst\u001b[0m\u001b[0;34m,\u001b[0m \u001b[0;34m**\u001b[0m\u001b[0mkwargs\u001b[0m\u001b[0;34m)\u001b[0m\u001b[0;34m\u001b[0m\u001b[0;34m\u001b[0m\u001b[0m\n\u001b[0m\u001b[1;32m    102\u001b[0m         \u001b[0;31m# kwargs arrays could have changed, easier to just attach here\u001b[0m\u001b[0;34m\u001b[0m\u001b[0;34m\u001b[0m\u001b[0;34m\u001b[0m\u001b[0m\n\u001b[1;32m    103\u001b[0m         \u001b[0;32mfor\u001b[0m \u001b[0mkey\u001b[0m \u001b[0;32min\u001b[0m \u001b[0mkwargs\u001b[0m\u001b[0;34m:\u001b[0m\u001b[0;34m\u001b[0m\u001b[0;34m\u001b[0m\u001b[0m\n",
      "\u001b[0;32m/opt/anaconda3/lib/python3.8/site-packages/statsmodels/base/data.py\u001b[0m in \u001b[0;36mhandle_data\u001b[0;34m(endog, exog, missing, hasconst, **kwargs)\u001b[0m\n\u001b[1;32m    670\u001b[0m \u001b[0;34m\u001b[0m\u001b[0m\n\u001b[1;32m    671\u001b[0m     \u001b[0mklass\u001b[0m \u001b[0;34m=\u001b[0m \u001b[0mhandle_data_class_factory\u001b[0m\u001b[0;34m(\u001b[0m\u001b[0mendog\u001b[0m\u001b[0;34m,\u001b[0m \u001b[0mexog\u001b[0m\u001b[0;34m)\u001b[0m\u001b[0;34m\u001b[0m\u001b[0;34m\u001b[0m\u001b[0m\n\u001b[0;32m--> 672\u001b[0;31m     return klass(endog, exog=exog, missing=missing, hasconst=hasconst,\n\u001b[0m\u001b[1;32m    673\u001b[0m                  **kwargs)\n",
      "\u001b[0;32m/opt/anaconda3/lib/python3.8/site-packages/statsmodels/base/data.py\u001b[0m in \u001b[0;36m__init__\u001b[0;34m(self, endog, exog, missing, hasconst, **kwargs)\u001b[0m\n\u001b[1;32m     81\u001b[0m             \u001b[0mself\u001b[0m\u001b[0;34m.\u001b[0m\u001b[0morig_endog\u001b[0m \u001b[0;34m=\u001b[0m \u001b[0mendog\u001b[0m\u001b[0;34m\u001b[0m\u001b[0;34m\u001b[0m\u001b[0m\n\u001b[1;32m     82\u001b[0m             \u001b[0mself\u001b[0m\u001b[0;34m.\u001b[0m\u001b[0morig_exog\u001b[0m \u001b[0;34m=\u001b[0m \u001b[0mexog\u001b[0m\u001b[0;34m\u001b[0m\u001b[0;34m\u001b[0m\u001b[0m\n\u001b[0;32m---> 83\u001b[0;31m             \u001b[0mself\u001b[0m\u001b[0;34m.\u001b[0m\u001b[0mendog\u001b[0m\u001b[0;34m,\u001b[0m \u001b[0mself\u001b[0m\u001b[0;34m.\u001b[0m\u001b[0mexog\u001b[0m \u001b[0;34m=\u001b[0m \u001b[0mself\u001b[0m\u001b[0;34m.\u001b[0m\u001b[0m_convert_endog_exog\u001b[0m\u001b[0;34m(\u001b[0m\u001b[0mendog\u001b[0m\u001b[0;34m,\u001b[0m \u001b[0mexog\u001b[0m\u001b[0;34m)\u001b[0m\u001b[0;34m\u001b[0m\u001b[0;34m\u001b[0m\u001b[0m\n\u001b[0m\u001b[1;32m     84\u001b[0m \u001b[0;34m\u001b[0m\u001b[0m\n\u001b[1;32m     85\u001b[0m         \u001b[0mself\u001b[0m\u001b[0;34m.\u001b[0m\u001b[0mconst_idx\u001b[0m \u001b[0;34m=\u001b[0m \u001b[0;32mNone\u001b[0m\u001b[0;34m\u001b[0m\u001b[0;34m\u001b[0m\u001b[0m\n",
      "\u001b[0;32m/opt/anaconda3/lib/python3.8/site-packages/statsmodels/base/data.py\u001b[0m in \u001b[0;36m_convert_endog_exog\u001b[0;34m(self, endog, exog)\u001b[0m\n\u001b[1;32m    506\u001b[0m         \u001b[0mexog\u001b[0m \u001b[0;34m=\u001b[0m \u001b[0mexog\u001b[0m \u001b[0;32mif\u001b[0m \u001b[0mexog\u001b[0m \u001b[0;32mis\u001b[0m \u001b[0;32mNone\u001b[0m \u001b[0;32melse\u001b[0m \u001b[0mnp\u001b[0m\u001b[0;34m.\u001b[0m\u001b[0masarray\u001b[0m\u001b[0;34m(\u001b[0m\u001b[0mexog\u001b[0m\u001b[0;34m)\u001b[0m\u001b[0;34m\u001b[0m\u001b[0;34m\u001b[0m\u001b[0m\n\u001b[1;32m    507\u001b[0m         \u001b[0;32mif\u001b[0m \u001b[0mendog\u001b[0m\u001b[0;34m.\u001b[0m\u001b[0mdtype\u001b[0m \u001b[0;34m==\u001b[0m \u001b[0mobject\u001b[0m \u001b[0;32mor\u001b[0m \u001b[0mexog\u001b[0m \u001b[0;32mis\u001b[0m \u001b[0;32mnot\u001b[0m \u001b[0;32mNone\u001b[0m \u001b[0;32mand\u001b[0m \u001b[0mexog\u001b[0m\u001b[0;34m.\u001b[0m\u001b[0mdtype\u001b[0m \u001b[0;34m==\u001b[0m \u001b[0mobject\u001b[0m\u001b[0;34m:\u001b[0m\u001b[0;34m\u001b[0m\u001b[0;34m\u001b[0m\u001b[0m\n\u001b[0;32m--> 508\u001b[0;31m             raise ValueError(\"Pandas data cast to numpy dtype of object. \"\n\u001b[0m\u001b[1;32m    509\u001b[0m                              \"Check input data with np.asarray(data).\")\n\u001b[1;32m    510\u001b[0m         \u001b[0;32mreturn\u001b[0m \u001b[0msuper\u001b[0m\u001b[0;34m(\u001b[0m\u001b[0mPandasData\u001b[0m\u001b[0;34m,\u001b[0m \u001b[0mself\u001b[0m\u001b[0;34m)\u001b[0m\u001b[0;34m.\u001b[0m\u001b[0m_convert_endog_exog\u001b[0m\u001b[0;34m(\u001b[0m\u001b[0mendog\u001b[0m\u001b[0;34m,\u001b[0m \u001b[0mexog\u001b[0m\u001b[0;34m)\u001b[0m\u001b[0;34m\u001b[0m\u001b[0;34m\u001b[0m\u001b[0m\n",
      "\u001b[0;31mValueError\u001b[0m: Pandas data cast to numpy dtype of object. Check input data with np.asarray(data)."
     ]
    }
   ],
   "source": [
    "# Put your code here\n",
    "import statsmodels.api as sm\n",
    "from statsmodels.tools import add_constant\n",
    "\n",
    "# Assuming df_chinstrap is your DataFrame for Chinstrap penguins\n",
    "\n",
    "# Add a constant term to the independent variables\n",
    "X = add_constant(df_chinstrap[['sex']])\n",
    "\n",
    "# Dependent variable\n",
    "y = df_chinstrap['body_mass_g']\n",
    "\n",
    "# Fit the model\n",
    "model = sm.OLS(y, X).fit()\n",
    "\n",
    "# Display the summary of the regression\n",
    "print(model.summary())\n"
   ]
  },
  {
   "cell_type": "markdown",
   "metadata": {},
   "source": [
    "<font size=+3>&#9998;</font> Put your answers here: It will not work. Because the sex column only consist of 2 differnt data. male or female. we could separate the sex to see if male have more mass compared to female. "
   ]
  },
  {
   "cell_type": "markdown",
   "metadata": {},
   "source": [
    "&#9989;  **Question 4.6 (4 points)**: A student from U of M managed to enroll in this class (don't ask us how) and is working on this homework. They got the following output when they used the `OLS()` method in `statsmodels.api`. \n",
    "\n",
    "<img src=\"https://i.ibb.co/SRs1MRM/Perfect-Model-Chinstrap.png\" width=\"400px\" border=\"0\">\n",
    "\n",
    "When you compare outputs, the Wolverine tells you \"My linear model is better than yours because my linear model has a larger $R^2$-value than your model. I guess Wolverines are way better than Spartans at data science.\"\n",
    "\n",
    "**Do this**: Answer These Questions:\n",
    "1. How did they get a linear model with a near perfect $R^2$-value? \n",
    "2. Is their model actually better than yours? \n",
    "\n",
    "Justify your answers."
   ]
  },
  {
   "cell_type": "markdown",
   "metadata": {},
   "source": [
    "<font size=+3>&#9998;</font> Put your answers here:\n",
    "One of the way they got near perfect R^2 value are because each of the features to add more data to it. For this student he add the Body_mass_g to the statesmodes. \n",
    "Their model is much better than my because the R value is light years better than all the statsmodes above. "
   ]
  },
  {
   "cell_type": "markdown",
   "metadata": {},
   "source": [
    "---\n",
    "### &#128721; STOP\n",
    "**Pause to commit your changes to your Git repository!**\n",
    "\n",
    "Take a moment to save your notebook, commit the changes to your local `git` repository using the commit message \"Part 4 complete\", and push the changes to GitHub.\n",
    "\n",
    "---"
   ]
  },
  {
   "cell_type": "markdown",
   "metadata": {},
   "source": [
    "## Part 5: Logistic Regression (18 points)\n",
    "\n",
    "In this part, we'd like to use logistic regression to classify the species of a penguin given it's body measurements. Logistic regression (as we've learned so far in class) does binary classification. However, we have three species of penguins, and they are not very happy when they are mistaken for another species.\n",
    "\n",
    "<img src=\"https://i.redd.it/q09631arghi41.jpg\" width=\"400px\">"
   ]
  },
  {
   "cell_type": "markdown",
   "metadata": {},
   "source": [
    "&#9989;  **Question 5.1 (4 points)**: Let's start by making a classifier to distinguish Adélie penguins from the other two species (Chinstrap penguins and Gentoo penguins). \n",
    "\n",
    "**Do This**: Double check that you still have the DataFrame from Question 2.3 intact, i.e. it has data from all three species, but with the NaN rows dropped. Then, create a `Pandas` `Series` called `labels` which takes the `species` column of the DataFrame, but replaces 'Chinstrap' and 'Gentoo' with 0 and replaces 'Adelie' with 1. Also, create a `Pandas` `DataFrame` called `features` which consists of just the four columns bill length, bill depth, flipper length, and body mass. Display the labels and features to make sure you did this correctly."
   ]
  },
  {
   "cell_type": "code",
   "execution_count": 67,
   "metadata": {},
   "outputs": [
    {
     "name": "stdout",
     "output_type": "stream",
     "text": [
      "Labels:\n",
      "0      1\n",
      "1      1\n",
      "2      1\n",
      "4      1\n",
      "5      1\n",
      "      ..\n",
      "338    0\n",
      "340    0\n",
      "341    0\n",
      "342    0\n",
      "343    0\n",
      "Name: labels, Length: 334, dtype: int64\n",
      "\n",
      "Features:\n",
      "     bill_length_mm  bill_depth_mm  flipper_length_mm  body_mass_g\n",
      "0              39.1           18.7              181.0       3750.0\n",
      "1              39.5           17.4              186.0       3800.0\n",
      "2              40.3           18.0              195.0       3250.0\n",
      "4              36.7           19.3              193.0       3450.0\n",
      "5              39.3           20.6              190.0       3650.0\n",
      "..              ...            ...                ...          ...\n",
      "338            47.2           13.7              214.0       4925.0\n",
      "340            46.8           14.3              215.0       4850.0\n",
      "341            50.4           15.7              222.0       5750.0\n",
      "342            45.2           14.8              212.0       5200.0\n",
      "343            49.9           16.1              213.0       5400.0\n",
      "\n",
      "[334 rows x 4 columns]\n"
     ]
    }
   ],
   "source": [
    "# Put your code here\n",
    "import pandas as pd\n",
    "df = pd.read_csv('penguins_size.csv')\n",
    "df = df.dropna()\n",
    "# Create labels\n",
    "df['labels'] = df['species'].replace({'Chinstrap': 0, 'Gentoo': 0, 'Adelie': 1})\n",
    "\n",
    "# Create features\n",
    "features = df[['bill_length_mm', 'bill_depth_mm', 'flipper_length_mm', 'body_mass_g']]\n",
    "\n",
    "# Display labels and features\n",
    "print(\"Labels:\")\n",
    "print(df['labels'])\n",
    "\n",
    "print(\"\\nFeatures:\")\n",
    "print(features)"
   ]
  },
  {
   "cell_type": "markdown",
   "metadata": {},
   "source": [
    "&#9989;  **Question 5.2 (4 points)**: Split your data into a training and testing set with a training set representing 75% of your data. For reproducibility, set the `random_state` argument to `0`. Print the shapes of the training features, the testing features, the training labels, and the testing labels to show you have the right number of entries in each of the four variables."
   ]
  },
  {
   "cell_type": "code",
   "execution_count": 68,
   "metadata": {},
   "outputs": [
    {
     "name": "stdout",
     "output_type": "stream",
     "text": [
      "Training Features Shape: (250, 4)\n",
      "Testing Features Shape: (84, 4)\n",
      "Training Labels Shape: (250,)\n",
      "Testing Labels Shape: (84,)\n"
     ]
    }
   ],
   "source": [
    "# Put your code here\n",
    "from sklearn.model_selection import train_test_split\n",
    "\n",
    "# Assuming 'features' is your DataFrame containing the input features, and 'labels' is the corresponding Series\n",
    "X_train, X_test, y_train, y_test = train_test_split(features, df['labels'], test_size=0.25, random_state=0)\n",
    "\n",
    "# Print the shapes of the training and testing sets\n",
    "print(\"Training Features Shape:\", X_train.shape)\n",
    "print(\"Testing Features Shape:\", X_test.shape)\n",
    "print(\"Training Labels Shape:\", y_train.shape)\n",
    "print(\"Testing Labels Shape:\", y_test.shape)\n"
   ]
  },
  {
   "cell_type": "markdown",
   "metadata": {},
   "source": [
    "&#9989;  **Question 5.3 (4 points)**: Now, train a logistic regression model using your training features and training labels. **Display the summary**."
   ]
  },
  {
   "cell_type": "code",
   "execution_count": null,
   "metadata": {},
   "outputs": [],
   "source": []
  },
  {
   "cell_type": "code",
   "execution_count": 69,
   "metadata": {},
   "outputs": [
    {
     "name": "stdout",
     "output_type": "stream",
     "text": [
      "Optimization terminated successfully.\n",
      "         Current function value: 0.015370\n",
      "         Iterations 14\n"
     ]
    },
    {
     "data": {
      "text/html": [
       "<table class=\"simpletable\">\n",
       "<caption>Logit Regression Results</caption>\n",
       "<tr>\n",
       "  <th>Dep. Variable:</th>        <td>labels</td>      <th>  No. Observations:  </th>  <td>   250</td>  \n",
       "</tr>\n",
       "<tr>\n",
       "  <th>Model:</th>                 <td>Logit</td>      <th>  Df Residuals:      </th>  <td>   245</td>  \n",
       "</tr>\n",
       "<tr>\n",
       "  <th>Method:</th>                 <td>MLE</td>       <th>  Df Model:          </th>  <td>     4</td>  \n",
       "</tr>\n",
       "<tr>\n",
       "  <th>Date:</th>            <td>Fri, 10 Nov 2023</td> <th>  Pseudo R-squ.:     </th>  <td>0.9774</td>  \n",
       "</tr>\n",
       "<tr>\n",
       "  <th>Time:</th>                <td>23:21:57</td>     <th>  Log-Likelihood:    </th> <td> -3.8426</td> \n",
       "</tr>\n",
       "<tr>\n",
       "  <th>converged:</th>             <td>True</td>       <th>  LL-Null:           </th> <td> -169.74</td> \n",
       "</tr>\n",
       "<tr>\n",
       "  <th>Covariance Type:</th>     <td>nonrobust</td>    <th>  LLR p-value:       </th> <td>1.490e-70</td>\n",
       "</tr>\n",
       "</table>\n",
       "<table class=\"simpletable\">\n",
       "<tr>\n",
       "          <td></td>             <th>coef</th>     <th>std err</th>      <th>z</th>      <th>P>|z|</th>  <th>[0.025</th>    <th>0.975]</th>  \n",
       "</tr>\n",
       "<tr>\n",
       "  <th>const</th>             <td>   30.4634</td> <td>   39.050</td> <td>    0.780</td> <td> 0.435</td> <td>  -46.073</td> <td>  107.000</td>\n",
       "</tr>\n",
       "<tr>\n",
       "  <th>bill_length_mm</th>    <td>   -4.0612</td> <td>    2.426</td> <td>   -1.674</td> <td> 0.094</td> <td>   -8.816</td> <td>    0.694</td>\n",
       "</tr>\n",
       "<tr>\n",
       "  <th>bill_depth_mm</th>     <td>    6.5674</td> <td>    4.254</td> <td>    1.544</td> <td> 0.123</td> <td>   -1.770</td> <td>   14.905</td>\n",
       "</tr>\n",
       "<tr>\n",
       "  <th>flipper_length_mm</th> <td>    0.0809</td> <td>    0.155</td> <td>    0.522</td> <td> 0.602</td> <td>   -0.223</td> <td>    0.385</td>\n",
       "</tr>\n",
       "<tr>\n",
       "  <th>body_mass_g</th>       <td>    0.0034</td> <td>    0.004</td> <td>    0.904</td> <td> 0.366</td> <td>   -0.004</td> <td>    0.011</td>\n",
       "</tr>\n",
       "</table><br/><br/>Possibly complete quasi-separation: A fraction 0.90 of observations can be<br/>perfectly predicted. This might indicate that there is complete<br/>quasi-separation. In this case some parameters will not be identified."
      ],
      "text/plain": [
       "<class 'statsmodels.iolib.summary.Summary'>\n",
       "\"\"\"\n",
       "                           Logit Regression Results                           \n",
       "==============================================================================\n",
       "Dep. Variable:                 labels   No. Observations:                  250\n",
       "Model:                          Logit   Df Residuals:                      245\n",
       "Method:                           MLE   Df Model:                            4\n",
       "Date:                Fri, 10 Nov 2023   Pseudo R-squ.:                  0.9774\n",
       "Time:                        23:21:57   Log-Likelihood:                -3.8426\n",
       "converged:                       True   LL-Null:                       -169.74\n",
       "Covariance Type:            nonrobust   LLR p-value:                 1.490e-70\n",
       "=====================================================================================\n",
       "                        coef    std err          z      P>|z|      [0.025      0.975]\n",
       "-------------------------------------------------------------------------------------\n",
       "const                30.4634     39.050      0.780      0.435     -46.073     107.000\n",
       "bill_length_mm       -4.0612      2.426     -1.674      0.094      -8.816       0.694\n",
       "bill_depth_mm         6.5674      4.254      1.544      0.123      -1.770      14.905\n",
       "flipper_length_mm     0.0809      0.155      0.522      0.602      -0.223       0.385\n",
       "body_mass_g           0.0034      0.004      0.904      0.366      -0.004       0.011\n",
       "=====================================================================================\n",
       "\n",
       "Possibly complete quasi-separation: A fraction 0.90 of observations can be\n",
       "perfectly predicted. This might indicate that there is complete\n",
       "quasi-separation. In this case some parameters will not be identified.\n",
       "\"\"\""
      ]
     },
     "execution_count": 69,
     "metadata": {},
     "output_type": "execute_result"
    }
   ],
   "source": [
    "logit_model = sm.Logit(y_train, sm.add_constant(X_train))\n",
    "result = logit_model.fit()\n",
    "result.summary()"
   ]
  },
  {
   "cell_type": "markdown",
   "metadata": {},
   "source": [
    "&#9989;  **Question 5.4 (4 points)**: Finally, test your logistic regression model using your testing features and testing labels. Display the fraction of testing data points that were correctly predicted. "
   ]
  },
  {
   "cell_type": "code",
   "execution_count": 70,
   "metadata": {},
   "outputs": [
    {
     "name": "stdout",
     "output_type": "stream",
     "text": [
      "Accuracy on Testing Set: 0.9761904761904762\n"
     ]
    }
   ],
   "source": [
    "# Put your code here\n",
    "from sklearn.metrics import accuracy_score\n",
    "\n",
    "# Predict the labels for the testing set\n",
    "y_pred = logreg_model.predict(X_test)\n",
    "\n",
    "# Calculate the accuracy\n",
    "accuracy = accuracy_score(y_test, y_pred)\n",
    "\n",
    "# Display the accuracy\n",
    "print(\"Accuracy on Testing Set:\", accuracy)\n",
    "# I used the code from https://scikit-learn.org/stable/modules/generated/sklearn.metrics.accuracy_score.html"
   ]
  },
  {
   "cell_type": "markdown",
   "metadata": {},
   "source": [
    "&#9989;  **Question 5.5 (2 points)**: If everything worked correctly, you should have a classifier that can distinguish Adélie penguins from the other two species with high accuracy! Now, suppose you wanted to write code that would take a penguins measurements (bill length, bill depth, flipper length, and body mass) and predict which of the three species the penguin was. Describe how you would do this. **Note**: You don't need to actually implement this with code, you simply need to have a sufficiently detailed plan for how you *could* do it. "
   ]
  },
  {
   "cell_type": "markdown",
   "metadata": {},
   "source": [
    "<font size=+3>&#9998;</font> Put your answers here:\n",
    "I would add all three spieces to the lables and let it train with all the datas sets. with all the data it can be trained to know which data fits which speices. Once the model is trained when ever you give input data it can look all over the trained data and find which set of data from different spieces fit into the input data. It which will predict wihc speices the input data describes. \n"
   ]
  },
  {
   "cell_type": "markdown",
   "metadata": {},
   "source": [
    "---\n",
    "### &#128721; STOP\n",
    "**Pause to commit your changes to your Git repository!**\n",
    "\n",
    "Take a moment to save your notebook, commit the changes to your local `git` repository using the commit message \"Part 5 complete\", and push the changes to GitHub.\n",
    "\n",
    "---"
   ]
  },
  {
   "cell_type": "markdown",
   "metadata": {},
   "source": [
    "## Part 1. Continued\n",
    "\n",
    "Now that you've finished your new \"development\" on your 202 turn-in repo, you can merge your work back into your `main` branch.\n",
    "\n",
    "**&#9989; Do the following**:\n",
    "\n",
    "7. Switch back to your `main` branch. \n",
    "8. Merge your `hw03_branch` with your `main` branch. \n",
    "9. Finally, push the changes to GitHub."
   ]
  },
  {
   "cell_type": "markdown",
   "metadata": {},
   "source": [
    "---\n",
    "## Assignment wrap-up\n",
    "\n",
    "\n",
    "Please fill out the form that appears when you run the code below.  **You must completely fill this out in order to receive credit for the assignment!**"
   ]
  },
  {
   "cell_type": "code",
   "execution_count": null,
   "metadata": {},
   "outputs": [],
   "source": [
    "from IPython.display import HTML\n",
    "HTML(\n",
    "\"\"\"\n",
    "<iframe \n",
    "\tsrc=\"https://forms.office.com/r/UsXJF7EeNY\" \n",
    "\twidth=\"800px\" \n",
    "\theight=\"600px\" \n",
    "\tframeborder=\"0\" \n",
    "\tmarginheight=\"0\" \n",
    "\tmarginwidth=\"0\">\n",
    "\tLoading...\n",
    "</iframe>\n",
    "\"\"\"\n",
    ")"
   ]
  },
  {
   "cell_type": "markdown",
   "metadata": {},
   "source": [
    "## Congratulations, you're done!\n",
    "\n",
    "<img src=https://education.rstudio.com/blog/2020/07/palmerpenguins-cran/penguins_cran.png width=200px>\n",
    "\n",
    "Submit this assignment by uploading it to the course Desire2Learn web page.  Go to the \"Homework Assignments\" folder, find the dropbox link for Homework 3, and upload it there."
   ]
  },
  {
   "cell_type": "markdown",
   "metadata": {},
   "source": [
    "&#169; Copyright 2023,  Department of Computational Mathematics, Science and Engineering at Michigan State University"
   ]
  }
 ],
 "metadata": {
  "kernelspec": {
   "display_name": "Python 3.8",
   "language": "python",
   "name": "python3"
  },
  "language_info": {
   "codemirror_mode": {
    "name": "ipython",
    "version": 3
   },
   "file_extension": ".py",
   "mimetype": "text/x-python",
   "name": "python",
   "nbconvert_exporter": "python",
   "pygments_lexer": "ipython3",
   "version": "3.8.8"
  },
  "toc": {
   "base_numbering": 1,
   "nav_menu": {},
   "number_sections": true,
   "sideBar": true,
   "skip_h1_title": false,
   "title_cell": "Table of Contents",
   "title_sidebar": "Contents",
   "toc_cell": false,
   "toc_position": {},
   "toc_section_display": true,
   "toc_window_display": false
  }
 },
 "nbformat": 4,
 "nbformat_minor": 4
}
